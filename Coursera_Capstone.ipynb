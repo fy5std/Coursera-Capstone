{
 "cells": [
  {
   "cell_type": "markdown",
   "metadata": {},
   "source": [
    "-------------------------------------------------\n",
    "-------------------------------------------------\n",
    "\n",
    "# Coursera Capstone Project Notebook\n",
    "\n",
    "-------------------------------------------------\n",
    "-------------------------------------------------\n",
    "\n",
    "##  *This notebook intends to track the development process of the capstone project in a specialization course in [Coursera](https://www.coursera.org/learn/applied-data-science-capstone/home/welcome)*\n",
    "\n",
    "-------------------------------------------------\n",
    "\n",
    "## The project consists of four parts:\n",
    "\n",
    "###     1. Data Collection Process (Foursquare API for geospatial data)\n",
    "\n",
    "###     2. Cleaning the data and analyzing it (Battling the neighborhoods)\n",
    " \n",
    "###     3. Generating the final report\n",
    " \n",
    "###     4. Generating the final presentation.\n",
    "\n",
    "-------------------------------------------------\n",
    "\n",
    "### The report and presentation consists of six parts:\n",
    "\n",
    "####     1. Introduction \n",
    "    where you discuss the business problem and who would be interested in this project.\n",
    "####     2. Data \n",
    "    where you describe the data that will be used to solve the problem and the source of the data.\n",
    "####     3. Methodology \n",
    "    which represents the main component of the report where you discuss and describe any exploratory data analysis that you did, any inferential statistical testing that you performed, and what machine learnings were used and why.\n",
    "####     4. Results \n",
    "    where you discuss the results. \n",
    "####     5. Discussion \n",
    "    where you discuss any observations you noted and any recommendations you can make based on the results. \n",
    "####     6. Conclusion \n",
    "    where you conclude the report.\n",
    "\n",
    "-------------------------------------------------\n",
    "\n",
    "### Let's get started"
   ]
  },
  {
   "cell_type": "code",
   "execution_count": 2,
   "metadata": {},
   "outputs": [],
   "source": [
    "import pandas as pd\n",
    "import numpy as nm"
   ]
  },
  {
   "cell_type": "markdown",
   "metadata": {},
   "source": [
    "Hello Capstone Project Course!"
   ]
  },
  {
   "cell_type": "markdown",
   "metadata": {},
   "source": [
    "------------------------------------------------"
   ]
  }
 ],
 "metadata": {
  "kernelspec": {
   "display_name": "Python 3",
   "language": "python",
   "name": "python3"
  },
  "language_info": {
   "codemirror_mode": {
    "name": "ipython",
    "version": 3
   },
   "file_extension": ".py",
   "mimetype": "text/x-python",
   "name": "python",
   "nbconvert_exporter": "python",
   "pygments_lexer": "ipython3",
   "version": "3.7.0"
  }
 },
 "nbformat": 4,
 "nbformat_minor": 2
}
